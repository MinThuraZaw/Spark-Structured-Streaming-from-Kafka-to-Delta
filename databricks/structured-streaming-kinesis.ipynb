{
 "cells": [
  {
   "cell_type": "code",
   "execution_count": 0,
   "metadata": {
    "application/vnd.databricks.v1+cell": {
     "cellMetadata": {
      "byteLimit": 2048000,
      "rowLimit": 10000
     },
     "inputWidgets": {},
     "nuid": "4554a8ba-69fb-421f-8fd4-64fa01d6f596",
     "showTitle": false,
     "title": ""
    }
   },
   "outputs": [],
   "source": [
    "from pyspark.sql.types import *\n",
    "from pyspark.sql.functions import *"
   ]
  },
  {
   "cell_type": "code",
   "execution_count": 0,
   "metadata": {
    "application/vnd.databricks.v1+cell": {
     "cellMetadata": {
      "byteLimit": 2048000,
      "rowLimit": 10000
     },
     "inputWidgets": {},
     "nuid": "67ed413d-c5cc-478c-9b37-8205f08b8392",
     "showTitle": false,
     "title": ""
    }
   },
   "outputs": [],
   "source": [
    "# Read Kinesis stream\n",
    "df = (\n",
    "    spark.readStream.format(\"kinesis\")\n",
    "    .option(\"streamName\", \"demo-raw-events\")\n",
    "    .option(\"initialPosition\", \"trim_horizon\")\n",
    "    .option(\"region\", \"ap-southeast-1\")\n",
    "    .option(\"awsAccessKey\", dbutils.secrets.get(\"aws\", \"demo_access_key\"))\n",
    "    .option(\"awsSecretKey\", dbutils.secrets.get(\"aws\", \"demo_secret_key\"))\n",
    "    .option(\"encoding\", \"UTF-8\")\n",
    "    .load()\n",
    ")"
   ]
  },
  {
   "cell_type": "code",
   "execution_count": 0,
   "metadata": {
    "application/vnd.databricks.v1+cell": {
     "cellMetadata": {
      "byteLimit": 2048000,
      "rowLimit": 10000
     },
     "inputWidgets": {},
     "nuid": "3502f2ee-ddad-4045-9c62-266685bba65b",
     "showTitle": false,
     "title": ""
    }
   },
   "outputs": [],
   "source": [
    "df = df.selectExpr(\"CAST(data as STRING) json_data\")\n",
    "\n",
    "# assuming that the JSON string is enclosed within {}\n",
    "df = df.withColumn('json_col', regexp_extract('json_data', r'\\{.*\\}', 0))"
   ]
  },
  {
   "cell_type": "code",
   "execution_count": 0,
   "metadata": {
    "application/vnd.databricks.v1+cell": {
     "cellMetadata": {
      "byteLimit": 2048000,
      "rowLimit": 10000
     },
     "inputWidgets": {},
     "nuid": "cd7cd42f-676b-4f52-8512-7ee92c09a5df",
     "showTitle": false,
     "title": ""
    }
   },
   "outputs": [],
   "source": [
    "schema = StructType([\n",
    "    StructField(\"schema\", StringType(), True),\n",
    "    StructField(\"data\", ArrayType(StructType([\n",
    "        StructField(\"e\", StringType(), True),\n",
    "        StructField(\"se_ac\", StringType(), True),\n",
    "        StructField(\"se_pr\", StringType(), True),\n",
    "        StructField(\"se_va\", DecimalType(10,2), True),\n",
    "        StructField(\"eid\", StringType(), True),\n",
    "        StructField(\"dtm\", StringType(), True),\n",
    "        StructField(\"p\", StringType(), True),\n",
    "        StructField(\"tv\", StringType(), True),\n",
    "        StructField(\"uid\", StringType(), True),\n",
    "        StructField(\"tz\", StringType(), True),\n",
    "        StructField(\"res\", StringType(), True),\n",
    "        StructField(\"stm\", StringType(), True)\n",
    "        ])))\n",
    "])\n",
    "\n",
    "df = df.withColumn(\"data\", from_json(\"json_col\",schema)).select(col('data.*'))\n",
    "df = df.withColumn(\"extract_data\", explode(col(\"data\"))).select( 'extract_data.*')\n",
    "\n",
    "#df.display()"
   ]
  },
  {
   "cell_type": "code",
   "execution_count": 0,
   "metadata": {
    "application/vnd.databricks.v1+cell": {
     "cellMetadata": {},
     "inputWidgets": {},
     "nuid": "d1aa44ca-d4bc-402c-b747-cda3f416608b",
     "showTitle": false,
     "title": ""
    }
   },
   "outputs": [],
   "source": [
    "df.limit(20).display()"
   ]
  },
  {
   "cell_type": "code",
   "execution_count": 0,
   "metadata": {
    "application/vnd.databricks.v1+cell": {
     "cellMetadata": {},
     "inputWidgets": {},
     "nuid": "b9ca2a42-de2b-422b-8c0e-75d0262ecb82",
     "showTitle": false,
     "title": ""
    }
   },
   "outputs": [],
   "source": [
    "df.writeStream.format(\"delta\")\\\n",
    "    .outputMode(\"append\")\\\n",
    "    .option(\"checkpointLocation\",\"dbfs_path\")\\\n",
    "    .table(\"demo_catalog.demo_schema.streaming_table\")"
   ]
  },
  {
   "cell_type": "code",
   "execution_count": 0,
   "metadata": {
    "application/vnd.databricks.v1+cell": {
     "cellMetadata": {},
     "inputWidgets": {},
     "nuid": "f58942c2-056c-4ad9-887f-222032ad95f9",
     "showTitle": false,
     "title": ""
    }
   },
   "outputs": [],
   "source": [
    "#"
   ]
  }
 ],
 "metadata": {
  "application/vnd.databricks.v1+notebook": {
   "dashboards": [],
   "language": "python",
   "notebookMetadata": {
    "pythonIndentUnit": 4
   },
   "notebookName": "structured-streaming-kinesis",
   "widgets": {}
  }
 },
 "nbformat": 4,
 "nbformat_minor": 0
}
